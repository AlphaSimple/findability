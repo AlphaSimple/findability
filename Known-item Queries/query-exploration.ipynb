{
 "cells": [
  {
   "cell_type": "code",
   "execution_count": 1,
   "metadata": {},
   "outputs": [],
   "source": [
    "import json\n",
    "from tqdm import tqdm"
   ]
  },
  {
   "cell_type": "code",
   "execution_count": 10,
   "metadata": {},
   "outputs": [],
   "source": [
    "with open('./MSMARCO/queries_MSMARCO.json', 'r') as f:\n",
    "    queries = json.load(f)"
   ]
  },
  {
   "cell_type": "code",
   "execution_count": 11,
   "metadata": {},
   "outputs": [
    {
     "data": {
      "text/plain": [
       "8841823"
      ]
     },
     "execution_count": 11,
     "metadata": {},
     "output_type": "execute_result"
    }
   ],
   "source": [
    "len(queries)"
   ]
  },
  {
   "cell_type": "code",
   "execution_count": 12,
   "metadata": {},
   "outputs": [
    {
     "name": "stdout",
     "output_type": "stream",
     "text": [
      "Total number of Queries = 19839452\n"
     ]
    }
   ],
   "source": [
    "numTotalQueries = sum([len(queries[docid]) for docid in queries])\n",
    "print('Total number of Queries =', numTotalQueries)"
   ]
  },
  {
   "cell_type": "code",
   "execution_count": 8,
   "metadata": {},
   "outputs": [],
   "source": [
    "with open('./Robust04/mini-200_queries_Robust04.json', 'w') as f:\n",
    "    json.dump(mini_queries, f)"
   ]
  },
  {
   "attachments": {},
   "cell_type": "markdown",
   "metadata": {},
   "source": [
    "### Number of docs in the corpus"
   ]
  },
  {
   "cell_type": "code",
   "execution_count": 4,
   "metadata": {},
   "outputs": [
    {
     "data": {
      "text/plain": [
       "1692096"
      ]
     },
     "execution_count": 4,
     "metadata": {},
     "output_type": "execute_result"
    }
   ],
   "source": [
    "# lucene imports\n",
    "import lucene\n",
    "from org.apache.lucene.search import IndexSearcher\n",
    "from org.apache.lucene.index import DirectoryReader, Term, PostingsEnum, MultiTerms\n",
    "from org.apache.lucene.store import FSDirectory, SimpleFSDirectory\n",
    "from org.apache.lucene.util import BytesRefIterator\n",
    "from java.io import File\n",
    "\n",
    "\n",
    "# start lucene virtual machine\n",
    "lucene.initVM()\n",
    "\n",
    "# This class returns a corpus document field content generator (as an iterator)\n",
    "class MyCorpus:\n",
    "    def __init__(self, indexPath, fieldname):\n",
    "        # Corpus documents directory path\n",
    "        directory = FSDirectory.open(File(indexPath).toPath())\n",
    "        self.indexReader = DirectoryReader.open(directory)\n",
    "        self.numDocs = self.indexReader.numDocs()   # no. docs in English Wikipedia or its index\n",
    "        self.FIELDNAME = fieldname\n",
    "    \n",
    "    def __iter__(self):\n",
    "        for luceneDocid in range(self.numDocs):\n",
    "            yield luceneDocid\n",
    "\n",
    "FIELDNAME = 'CONTENTS'       # Lucene index field name for content of the doc\n",
    "index_path = '../../../wt10g/index_wt10g_cleaned'   # Lucene index directory path\n",
    "# corpus doc generator object\n",
    "wt10g_corpus = MyCorpus(index_path, FIELDNAME)\n",
    "\n",
    "wt10g_corpus.numDocs"
   ]
  }
 ],
 "metadata": {
  "kernelspec": {
   "display_name": "Python 3",
   "language": "python",
   "name": "python3"
  },
  "language_info": {
   "codemirror_mode": {
    "name": "ipython",
    "version": 3
   },
   "file_extension": ".py",
   "mimetype": "text/x-python",
   "name": "python",
   "nbconvert_exporter": "python",
   "pygments_lexer": "ipython3",
   "version": "3.10.6"
  },
  "orig_nbformat": 4
 },
 "nbformat": 4,
 "nbformat_minor": 2
}
